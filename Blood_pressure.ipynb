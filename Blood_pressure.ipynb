{
  "nbformat": 4,
  "nbformat_minor": 0,
  "metadata": {
    "colab": {
      "provenance": []
    },
    "kernelspec": {
      "name": "python3",
      "display_name": "Python 3"
    },
    "language_info": {
      "name": "python"
    }
  },
  "cells": [
    {
      "cell_type": "code",
      "execution_count": 12,
      "metadata": {
        "colab": {
          "base_uri": "https://localhost:8080/"
        },
        "id": "cjd6wbZTrzA5",
        "outputId": "cfcb10b9-8dba-43c0-f302-82ec5034a7ce"
      },
      "outputs": [
        {
          "output_type": "stream",
          "name": "stdout",
          "text": [
            "please systolic blood pressure: -1\n",
            "Please diastolic blood  pressure: -1\n",
            "Please enter valid integer values for blood pressure within the acceptable range.\n",
            "please systolic blood pressure: 301\n",
            "Please diastolic blood  pressure: 207\n",
            "Please enter valid integer values for blood pressure within the acceptable range.\n",
            "please systolic blood pressure: 120\n",
            "Please diastolic blood  pressure: 50\n",
            "Please enter valid reading\n"
          ]
        }
      ],
      "source": [
        "# analyzing the blood pressure\n",
        "while True:\n",
        "  try:\n",
        "    # prompt the user for blood pressure\n",
        "    systolic_pressure = int(input(\"please systolic blood pressure: \"))\n",
        "    diastolic_pressure = int(input(\"Please diastolic blood  pressure: \"))\n",
        "    # check if the entered values are withing acceptable range\n",
        "    if ((systolic_pressure < 0 or systolic_pressure > 300) or (diastolic_pressure < 0 or diastolic_pressure > 200)):\n",
        "      raise ValueError\n",
        "    break\n",
        "  except ValueError:\n",
        "    # display the error message if the input is invalid\n",
        "    print(\"Please enter valid integer values for blood pressure within the acceptable range.\")\n",
        "# use \"if else\" statement to check if blood pressure is normal\n",
        "if (systolic_pressure == 120 and diastolic_pressure == 80):\n",
        "  # if above condition become true, following message will be displayed\n",
        "  print(\"Your blood pressure is normal\")\n",
        "elif((systolic_pressure > 120 and systolic_pressure < 140) and (diastolic_pressure > 80 and diastolic_pressure < 90)):\n",
        "  # if above condition become true, following message will be displayed\n",
        "  print(\"Your blood pressure is elevated but not yet classified as hypertension.\")\n",
        "  # if above condition become true, following message will be displayed\n",
        "elif(systolic_pressure >= 140 and diastolic_pressure >= 90):\n",
        "  print(\"Your blood pressure is in the hypertensive range.\")\n",
        "else:\n",
        "  print(\"Please enter valid reading\")"
      ]
    },
    {
      "cell_type": "code",
      "source": [],
      "metadata": {
        "id": "n0ySmMpz0hBv"
      },
      "execution_count": null,
      "outputs": []
    }
  ]
}